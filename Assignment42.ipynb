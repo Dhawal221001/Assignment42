{
 "cells": [
  {
   "cell_type": "markdown",
   "id": "01e8b424-ddef-4730-a0bd-cda22ca420c4",
   "metadata": {},
   "source": [
    "## Q1. What is data encoding? How is it useful in data science? "
   ]
  },
  {
   "cell_type": "markdown",
   "id": "ab623b8f-b8d7-4d45-82a4-f4e3e31290c1",
   "metadata": {},
   "source": [
    "### Models only work with numerical values. For this reason, it is necessary to convert the categorical values of the features into numerical ones, So the machine can learn from those data and gives the right model. This process of converting categorical data into numerical data is called Encoding."
   ]
  },
  {
   "cell_type": "markdown",
   "id": "21f5498b-f68c-4902-a2f9-7278c222d5c8",
   "metadata": {},
   "source": [
    "## Q2. What is nominal encoding? Provide an example of how you would use it in a real-world scenario."
   ]
  },
  {
   "cell_type": "markdown",
   "id": "8e09cc60-d899-4486-ab66-de6b08d1699b",
   "metadata": {},
   "source": [
    "### When we have a feature where variables are just names and there is no order or rank to this variable's feature.\n",
    "### For example: City of person lives in, Gender of person, Marital Status, etc…"
   ]
  },
  {
   "cell_type": "markdown",
   "id": "13c87f0a-0956-48c2-9220-28698f7efc8d",
   "metadata": {},
   "source": [
    "## Q3. In what situations is nominal encoding preferred over one-hot encoding? Provide a practical example."
   ]
  },
  {
   "cell_type": "markdown",
   "id": "27ee1c4a-cc49-465c-9525-331c96f8baca",
   "metadata": {},
   "source": [
    "### One hot encoding is a technique that we use to represent categorical variables as numerical values in a machine learning model."
   ]
  },
  {
   "cell_type": "code",
   "execution_count": 3,
   "id": "98ac5789-8dd0-42fd-8ed3-b4d5f0f1da34",
   "metadata": {},
   "outputs": [],
   "source": [
    "import pandas as pd\n",
    "from sklearn.preprocessing import OneHotEncoder\n",
    "import seaborn as sns"
   ]
  },
  {
   "cell_type": "code",
   "execution_count": 4,
   "id": "7505ec0f-c812-4140-b16f-a769e4ea7668",
   "metadata": {},
   "outputs": [],
   "source": [
    "df1=sns.load_dataset('tips')"
   ]
  },
  {
   "cell_type": "code",
   "execution_count": 5,
   "id": "2f64eb0c-a3ae-4f95-bd22-8f64c4a87b26",
   "metadata": {},
   "outputs": [],
   "source": [
    "encode=OneHotEncoder()"
   ]
  },
  {
   "cell_type": "code",
   "execution_count": 6,
   "id": "3ab51cc6-b8d1-429c-a046-9227b0d7e7ec",
   "metadata": {},
   "outputs": [
    {
     "data": {
      "text/plain": [
       "<244x2 sparse matrix of type '<class 'numpy.float64'>'\n",
       "\twith 244 stored elements in Compressed Sparse Row format>"
      ]
     },
     "execution_count": 6,
     "metadata": {},
     "output_type": "execute_result"
    }
   ],
   "source": [
    "encode.fit_transform(df1[['sex']])"
   ]
  },
  {
   "cell_type": "code",
   "execution_count": 7,
   "id": "83bd9354-ff55-4672-993c-a7b73fa5fa1a",
   "metadata": {},
   "outputs": [],
   "source": [
    "encoded=encode.fit_transform(df1[['sex']]).toarray()"
   ]
  },
  {
   "cell_type": "code",
   "execution_count": 9,
   "id": "2cdaa808-d06d-4d97-8d8d-2d1b179e407e",
   "metadata": {},
   "outputs": [],
   "source": [
    "encoded_df1=pd.DataFrame(encoded,columns=encode.get_feature_names_out())"
   ]
  },
  {
   "cell_type": "code",
   "execution_count": 10,
   "id": "27ead36f-ba10-47a5-8f24-959c18a0381c",
   "metadata": {},
   "outputs": [
    {
     "data": {
      "text/html": [
       "<div>\n",
       "<style scoped>\n",
       "    .dataframe tbody tr th:only-of-type {\n",
       "        vertical-align: middle;\n",
       "    }\n",
       "\n",
       "    .dataframe tbody tr th {\n",
       "        vertical-align: top;\n",
       "    }\n",
       "\n",
       "    .dataframe thead th {\n",
       "        text-align: right;\n",
       "    }\n",
       "</style>\n",
       "<table border=\"1\" class=\"dataframe\">\n",
       "  <thead>\n",
       "    <tr style=\"text-align: right;\">\n",
       "      <th></th>\n",
       "      <th>sex_Female</th>\n",
       "      <th>sex_Male</th>\n",
       "    </tr>\n",
       "  </thead>\n",
       "  <tbody>\n",
       "    <tr>\n",
       "      <th>0</th>\n",
       "      <td>1.0</td>\n",
       "      <td>0.0</td>\n",
       "    </tr>\n",
       "    <tr>\n",
       "      <th>1</th>\n",
       "      <td>0.0</td>\n",
       "      <td>1.0</td>\n",
       "    </tr>\n",
       "    <tr>\n",
       "      <th>2</th>\n",
       "      <td>0.0</td>\n",
       "      <td>1.0</td>\n",
       "    </tr>\n",
       "    <tr>\n",
       "      <th>3</th>\n",
       "      <td>0.0</td>\n",
       "      <td>1.0</td>\n",
       "    </tr>\n",
       "    <tr>\n",
       "      <th>4</th>\n",
       "      <td>1.0</td>\n",
       "      <td>0.0</td>\n",
       "    </tr>\n",
       "    <tr>\n",
       "      <th>...</th>\n",
       "      <td>...</td>\n",
       "      <td>...</td>\n",
       "    </tr>\n",
       "    <tr>\n",
       "      <th>239</th>\n",
       "      <td>0.0</td>\n",
       "      <td>1.0</td>\n",
       "    </tr>\n",
       "    <tr>\n",
       "      <th>240</th>\n",
       "      <td>1.0</td>\n",
       "      <td>0.0</td>\n",
       "    </tr>\n",
       "    <tr>\n",
       "      <th>241</th>\n",
       "      <td>0.0</td>\n",
       "      <td>1.0</td>\n",
       "    </tr>\n",
       "    <tr>\n",
       "      <th>242</th>\n",
       "      <td>0.0</td>\n",
       "      <td>1.0</td>\n",
       "    </tr>\n",
       "    <tr>\n",
       "      <th>243</th>\n",
       "      <td>1.0</td>\n",
       "      <td>0.0</td>\n",
       "    </tr>\n",
       "  </tbody>\n",
       "</table>\n",
       "<p>244 rows × 2 columns</p>\n",
       "</div>"
      ],
      "text/plain": [
       "     sex_Female  sex_Male\n",
       "0           1.0       0.0\n",
       "1           0.0       1.0\n",
       "2           0.0       1.0\n",
       "3           0.0       1.0\n",
       "4           1.0       0.0\n",
       "..          ...       ...\n",
       "239         0.0       1.0\n",
       "240         1.0       0.0\n",
       "241         0.0       1.0\n",
       "242         0.0       1.0\n",
       "243         1.0       0.0\n",
       "\n",
       "[244 rows x 2 columns]"
      ]
     },
     "execution_count": 10,
     "metadata": {},
     "output_type": "execute_result"
    }
   ],
   "source": [
    "encoded_df1"
   ]
  },
  {
   "cell_type": "markdown",
   "id": "0b774973-42d6-4a0e-a429-aef72e700d3e",
   "metadata": {},
   "source": [
    "## Q4. Suppose you have a dataset containing categorical data with 5 unique values. Which encoding technique would you use to transform this data into a format suitable for machine learning algorithms? Explain why you made this choice."
   ]
  },
  {
   "cell_type": "markdown",
   "id": "55a73268-7835-416d-b9fb-fd905092643b",
   "metadata": {},
   "source": [
    "### I will use One Hot Encoding technique to transform the data.\n",
    "### I choose OHE because the number of categories is not much large."
   ]
  },
  {
   "cell_type": "markdown",
   "id": "1462a83e-8765-4536-aa2c-d2bf7af41bd6",
   "metadata": {},
   "source": [
    "## Q5. In a machine learning project, you have a dataset with 1000 rows and 5 columns. Two of the columns are categorical, and the remaining three columns are numerical. If you were to use nominal encoding to transform the categorical data, how many new columns would be created? Show your calculations."
   ]
  },
  {
   "cell_type": "markdown",
   "id": "2ed8f5ab-9a7b-4232-9f9a-6d01263c23a6",
   "metadata": {},
   "source": [
    "### Assume in two categorical data coluumns there are X and Y categories respectively.\n",
    "### Then number of new categories wpuld be X+Y"
   ]
  },
  {
   "cell_type": "markdown",
   "id": "a28bf148-87af-416b-b678-8c25ca7d0123",
   "metadata": {},
   "source": [
    "## Q6. You are working with a dataset containing information about different types of animals, including their species, habitat, and diet. Which encoding technique would you use to transform the categorical data into a format suitable for machine learning algorithms? Justify your answer."
   ]
  },
  {
   "cell_type": "markdown",
   "id": "cb00e711-659a-4fae-a108-87cf9e489091",
   "metadata": {},
   "source": [
    "### I will use OHE technique because the data is nominal"
   ]
  },
  {
   "cell_type": "markdown",
   "id": "7b9ed740-a02a-45bd-94e8-2f17d582fa6e",
   "metadata": {},
   "source": [
    "## Q7.You are working on a project that involves predicting customer churn for a telecommunications company. You have a dataset with 5 features, including the customer's gender, age, contract type, monthly charges, and tenure. Which encoding technique(s) would you use to transform the categorical data into numerical data? Provide a step-by-step explanation of how you would implement the encoding."
   ]
  },
  {
   "cell_type": "markdown",
   "id": "bc5edb74-973a-43cf-9a03-fe0119dade97",
   "metadata": {},
   "source": [
    "### I would use OHE technique to transform  the data.\n",
    "### I'll use \"sklearn.preprocessing\" library to transform the data into categorical form. And then cocat the data in the table, column wise."
   ]
  }
 ],
 "metadata": {
  "kernelspec": {
   "display_name": "Python 3 (ipykernel)",
   "language": "python",
   "name": "python3"
  },
  "language_info": {
   "codemirror_mode": {
    "name": "ipython",
    "version": 3
   },
   "file_extension": ".py",
   "mimetype": "text/x-python",
   "name": "python",
   "nbconvert_exporter": "python",
   "pygments_lexer": "ipython3",
   "version": "3.10.8"
  }
 },
 "nbformat": 4,
 "nbformat_minor": 5
}
